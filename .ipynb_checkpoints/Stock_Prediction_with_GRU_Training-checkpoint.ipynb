{
 "cells": [
  {
   "cell_type": "code",
   "execution_count": 46,
   "id": "43fe13da",
   "metadata": {},
   "outputs": [],
   "source": [
    "import tensorflow as tf\n",
    "import numpy as np\n",
    "import pandas as pd\n",
    "import matplotlib.pyplot as plt\n",
    "from tensorflow.keras import Sequential\n",
    "from tensorflow.keras.layers import LSTM, GRU, Dense, Dropout"
   ]
  },
  {
   "cell_type": "code",
   "execution_count": 61,
   "id": "94076238",
   "metadata": {},
   "outputs": [],
   "source": [
    "#adjust parameters here\n",
    "\n",
    "stock_title = 'IBM'\n",
    "stock_link = 'https://query1.finance.yahoo.com/v7/finance/download/IBM?period1=1491955200&period2=1649721600&interval=1d&events=history&includeAdjustedClose=true'\n",
    "date_split_train_test = '2022-02'\n",
    "step = 20 #to predict ahead (date_split_train_test shoud be valid with the step, ex; later than 2022-02 should be 20 or more days)\n",
    "epochs = 80\n"
   ]
  },
  {
   "cell_type": "code",
   "execution_count": 62,
   "id": "e0bc009d",
   "metadata": {},
   "outputs": [
    {
     "data": {
      "text/html": [
       "<div>\n",
       "<style scoped>\n",
       "    .dataframe tbody tr th:only-of-type {\n",
       "        vertical-align: middle;\n",
       "    }\n",
       "\n",
       "    .dataframe tbody tr th {\n",
       "        vertical-align: top;\n",
       "    }\n",
       "\n",
       "    .dataframe thead th {\n",
       "        text-align: right;\n",
       "    }\n",
       "</style>\n",
       "<table border=\"1\" class=\"dataframe\">\n",
       "  <thead>\n",
       "    <tr style=\"text-align: right;\">\n",
       "      <th></th>\n",
       "      <th>Open</th>\n",
       "      <th>High</th>\n",
       "      <th>Low</th>\n",
       "      <th>Close</th>\n",
       "      <th>Adj Close</th>\n",
       "      <th>Volume</th>\n",
       "    </tr>\n",
       "    <tr>\n",
       "      <th>Date</th>\n",
       "      <th></th>\n",
       "      <th></th>\n",
       "      <th></th>\n",
       "      <th></th>\n",
       "      <th></th>\n",
       "      <th></th>\n",
       "    </tr>\n",
       "  </thead>\n",
       "  <tbody>\n",
       "    <tr>\n",
       "      <th>2017-04-12</th>\n",
       "      <td>163.518158</td>\n",
       "      <td>163.671127</td>\n",
       "      <td>162.543015</td>\n",
       "      <td>163.154877</td>\n",
       "      <td>129.186691</td>\n",
       "      <td>3427637</td>\n",
       "    </tr>\n",
       "    <tr>\n",
       "      <th>2017-04-13</th>\n",
       "      <td>162.447418</td>\n",
       "      <td>163.824097</td>\n",
       "      <td>162.074570</td>\n",
       "      <td>162.074570</td>\n",
       "      <td>128.331268</td>\n",
       "      <td>3352953</td>\n",
       "    </tr>\n",
       "    <tr>\n",
       "      <th>2017-04-17</th>\n",
       "      <td>162.284897</td>\n",
       "      <td>163.766724</td>\n",
       "      <td>162.160614</td>\n",
       "      <td>163.575531</td>\n",
       "      <td>129.519760</td>\n",
       "      <td>3891329</td>\n",
       "    </tr>\n",
       "    <tr>\n",
       "      <th>2017-04-18</th>\n",
       "      <td>163.279160</td>\n",
       "      <td>164.139572</td>\n",
       "      <td>162.361374</td>\n",
       "      <td>162.571701</td>\n",
       "      <td>128.724945</td>\n",
       "      <td>6637393</td>\n",
       "    </tr>\n",
       "    <tr>\n",
       "      <th>2017-04-19</th>\n",
       "      <td>154.646271</td>\n",
       "      <td>155.487579</td>\n",
       "      <td>152.581268</td>\n",
       "      <td>154.579346</td>\n",
       "      <td>122.396561</td>\n",
       "      <td>20171378</td>\n",
       "    </tr>\n",
       "  </tbody>\n",
       "</table>\n",
       "</div>"
      ],
      "text/plain": [
       "                  Open        High         Low       Close   Adj Close  \\\n",
       "Date                                                                     \n",
       "2017-04-12  163.518158  163.671127  162.543015  163.154877  129.186691   \n",
       "2017-04-13  162.447418  163.824097  162.074570  162.074570  128.331268   \n",
       "2017-04-17  162.284897  163.766724  162.160614  163.575531  129.519760   \n",
       "2017-04-18  163.279160  164.139572  162.361374  162.571701  128.724945   \n",
       "2017-04-19  154.646271  155.487579  152.581268  154.579346  122.396561   \n",
       "\n",
       "              Volume  \n",
       "Date                  \n",
       "2017-04-12   3427637  \n",
       "2017-04-13   3352953  \n",
       "2017-04-17   3891329  \n",
       "2017-04-18   6637393  \n",
       "2017-04-19  20171378  "
      ]
     },
     "execution_count": 62,
     "metadata": {},
     "output_type": "execute_result"
    }
   ],
   "source": [
    "df = pd.read_csv(stock_link, index_col='Date')\n",
    "df.index = pd.to_datetime(df.index)\n",
    "df.head()"
   ]
  },
  {
   "cell_type": "code",
   "execution_count": 63,
   "id": "2511e07d",
   "metadata": {},
   "outputs": [
    {
     "data": {
      "text/plain": [
       "Date\n",
       "2017-04-12    163.154877\n",
       "2017-04-13    162.074570\n",
       "2017-04-17    163.575531\n",
       "2017-04-18    162.571701\n",
       "2017-04-19    154.579346\n",
       "Name: Close, dtype: float64"
      ]
     },
     "execution_count": 63,
     "metadata": {},
     "output_type": "execute_result"
    }
   ],
   "source": [
    "df.isnull().sum()\n",
    "df = df.Close\n",
    "df.head()"
   ]
  },
  {
   "cell_type": "code",
   "execution_count": 64,
   "id": "7f1909cd",
   "metadata": {},
   "outputs": [
    {
     "data": {
      "image/png": "[encoded data removed]",
      "text/plain": [
       "<Figure size 720x252 with 1 Axes>"
      ]
     },
     "metadata": {
      "needs_background": "light"
     },
     "output_type": "display_data"
    }
   ],
   "source": [
    "df[:date_split_train_test].plot(figsize=(10,3.5), legend=True)\n",
    "df[date_split_train_test:].plot(figsize=(10,3.5), legend=True)\n",
    "plt.legend(['Training set (before Feb)', 'Test set (after Feb)'])\n",
    "plt.title(stock_title)\n",
    "plt.show()"
   ]
  },
  {
   "cell_type": "code",
   "execution_count": 65,
   "id": "bcf3513b",
   "metadata": {},
   "outputs": [],
   "source": [
    "from sklearn.preprocessing import MinMaxScaler\n",
    "\n",
    "data = df.values.reshape(-1,1)\n",
    "sc = MinMaxScaler()\n",
    "data_sc = sc.fit_transform(data)"
   ]
  },
  {
   "cell_type": "code",
   "execution_count": 66,
   "id": "a4f5fa5b",
   "metadata": {},
   "outputs": [
    {
     "name": "stdout",
     "output_type": "stream",
     "text": [
      "(1229, 1) (30, 1)\n"
     ]
    }
   ],
   "source": [
    "def convertToMatrix(data, step=1):\n",
    "    X, Y = [],[]\n",
    "    for i in range(len(data)-step):\n",
    "        d = i + step\n",
    "        X.append(data[i:d,]) #Training data from i to i + d\n",
    "        Y.append(data[d,]) #Target data d\n",
    "    return np.array(X), np.array(Y)\n",
    "\n",
    "n_train = df[:date_split_train_test].shape[0]\n",
    "train, test = data_sc[0:n_train], data_sc[n_train:]\n",
    "print(train.shape, test.shape)"
   ]
  },
  {
   "cell_type": "code",
   "execution_count": 67,
   "id": "e68bbbe6",
   "metadata": {},
   "outputs": [
    {
     "name": "stdout",
     "output_type": "stream",
     "text": [
      "Train, Test of X  (1209, 20, 1) (10, 20, 1)\n",
      "Train, Test of y  (1209, 1) (10, 1)\n"
     ]
    }
   ],
   "source": [
    "X_train, y_train = convertToMatrix(train, step)\n",
    "X_test, y_test = convertToMatrix(test, step)\n",
    "print(\"Train, Test of X \", X_train.shape, X_test.shape)\n",
    "print(\"Train, Test of y \", y_train.shape, y_test.shape)"
   ]
  },
  {
   "cell_type": "code",
   "execution_count": 68,
   "id": "d13a5d58",
   "metadata": {},
   "outputs": [
    {
     "name": "stdout",
     "output_type": "stream",
     "text": [
      "WARNING:tensorflow:Layer gru_8 will not use cuDNN kernels since it doesn't meet the criteria. It will use a generic GPU kernel as fallback when running on GPU.\n"
     ]
    },
    {
     "name": "stderr",
     "output_type": "stream",
     "text": [
      "WARNING:tensorflow:Layer gru_8 will not use cuDNN kernels since it doesn't meet the criteria. It will use a generic GPU kernel as fallback when running on GPU.\n"
     ]
    },
    {
     "name": "stdout",
     "output_type": "stream",
     "text": [
      "WARNING:tensorflow:Layer gru_9 will not use cuDNN kernels since it doesn't meet the criteria. It will use a generic GPU kernel as fallback when running on GPU.\n"
     ]
    },
    {
     "name": "stderr",
     "output_type": "stream",
     "text": [
      "WARNING:tensorflow:Layer gru_9 will not use cuDNN kernels since it doesn't meet the criteria. It will use a generic GPU kernel as fallback when running on GPU.\n"
     ]
    },
    {
     "name": "stdout",
     "output_type": "stream",
     "text": [
      "Model: \"sequential_4\"\n",
      "_________________________________________________________________\n",
      " Layer (type)                Output Shape              Param #   \n",
      "=================================================================\n",
      " gru_8 (GRU)                 (None, 20, 50)            7950      \n",
      "                                                                 \n",
      " dropout_8 (Dropout)         (None, 20, 50)            0         \n",
      "                                                                 \n",
      " gru_9 (GRU)                 (None, 4)                 672       \n",
      "                                                                 \n",
      " dropout_9 (Dropout)         (None, 4)                 0         \n",
      "                                                                 \n",
      " dense_4 (Dense)             (None, 1)                 5         \n",
      "                                                                 \n",
      "=================================================================\n",
      "Total params: 8,627\n",
      "Trainable params: 8,627\n",
      "Non-trainable params: 0\n",
      "_________________________________________________________________\n"
     ]
    }
   ],
   "source": [
    "model = Sequential([\n",
    "    GRU(units=50, return_sequences=True, input_shape = (step,1), activation='relu'),\n",
    "    Dropout(0.2),\n",
    "    GRU(units=4, activation='relu'),\n",
    "    Dropout(0.2),\n",
    "    Dense(units=1)\n",
    "])\n",
    "\n",
    "model.compile(loss='mean_squared_error', optimizer='rmsprop')\n",
    "model.summary()"
   ]
  },
  {
   "cell_type": "code",
   "execution_count": 69,
   "id": "e24380b5",
   "metadata": {
    "scrolled": true
   },
   "outputs": [
    {
     "name": "stdout",
     "output_type": "stream",
     "text": [
      "Epoch 1/80\n"
     ]
    },
    {
     "name": "stderr",
     "output_type": "stream",
     "text": [
      "2022-04-21 00:19:33.492804: I tensorflow/core/grappler/optimizers/custom_graph_optimizer_registry.cc:113] Plugin optimizer for device_type GPU is enabled.\n"
     ]
    },
    {
     "name": "stdout",
     "output_type": "stream",
     "text": [
      "38/38 [==============================] - 38s 979ms/step - loss: 0.2305\n",
      "Epoch 2/80\n",
      "38/38 [==============================] - 49s 1s/step - loss: 0.0449\n",
      "Epoch 3/80\n",
      "38/38 [==============================] - 64s 2s/step - loss: 0.0382\n",
      "Epoch 4/80\n",
      "38/38 [==============================] - 73s 2s/step - loss: 0.0329\n",
      "Epoch 5/80\n",
      "38/38 [==============================] - 71s 2s/step - loss: 0.0262\n",
      "Epoch 6/80\n",
      "38/38 [==============================] - 75s 2s/step - loss: 0.0212\n",
      "Epoch 7/80\n",
      "38/38 [==============================] - 70s 2s/step - loss: 0.0188\n",
      "Epoch 8/80\n",
      "38/38 [==============================] - 76s 2s/step - loss: 0.0173\n",
      "Epoch 9/80\n",
      "38/38 [==============================] - 78s 2s/step - loss: 0.0145\n",
      "Epoch 10/80\n",
      "38/38 [==============================] - 79s 2s/step - loss: 0.0135\n",
      "Epoch 11/80\n",
      "38/38 [==============================] - 80s 2s/step - loss: 0.0122\n",
      "Epoch 12/80\n",
      "38/38 [==============================] - 76s 2s/step - loss: 0.0098\n",
      "Epoch 13/80\n",
      "38/38 [==============================] - 81s 2s/step - loss: 0.0090\n",
      "Epoch 14/80\n",
      "38/38 [==============================] - 83s 2s/step - loss: 0.0099\n",
      "Epoch 15/80\n",
      "38/38 [==============================] - 76s 2s/step - loss: 0.0099\n",
      "Epoch 16/80\n",
      "38/38 [==============================] - 72s 2s/step - loss: 0.0091\n",
      "Epoch 17/80\n",
      "38/38 [==============================] - 76s 2s/step - loss: 0.0086\n",
      "Epoch 18/80\n",
      "38/38 [==============================] - 83s 2s/step - loss: 0.0072\n",
      "Epoch 19/80\n",
      "38/38 [==============================] - 82s 2s/step - loss: 0.0060\n",
      "Epoch 20/80\n",
      "38/38 [==============================] - 85s 2s/step - loss: 0.0065\n",
      "Epoch 21/80\n",
      "38/38 [==============================] - 85s 2s/step - loss: 0.0067\n",
      "Epoch 22/80\n",
      "38/38 [==============================] - 91s 2s/step - loss: 0.0067\n",
      "Epoch 23/80\n",
      "38/38 [==============================] - 89s 2s/step - loss: 0.0055\n",
      "Epoch 24/80\n",
      "38/38 [==============================] - 90s 2s/step - loss: 0.0060\n",
      "Epoch 25/80\n",
      "38/38 [==============================] - 97s 3s/step - loss: 0.0062\n",
      "Epoch 26/80\n",
      "38/38 [==============================] - 89s 2s/step - loss: 0.0061\n",
      "Epoch 27/80\n",
      "38/38 [==============================] - 85s 2s/step - loss: 0.0058\n",
      "Epoch 28/80\n",
      "38/38 [==============================] - 83s 2s/step - loss: 0.0057\n",
      "Epoch 29/80\n",
      "38/38 [==============================] - 81s 2s/step - loss: 0.0053\n",
      "Epoch 30/80\n",
      "38/38 [==============================] - 80s 2s/step - loss: 0.0053\n",
      "Epoch 31/80\n",
      "38/38 [==============================] - 81s 2s/step - loss: 0.0047\n",
      "Epoch 32/80\n",
      "38/38 [==============================] - 80s 2s/step - loss: 0.0039\n",
      "Epoch 33/80\n",
      "38/38 [==============================] - 81s 2s/step - loss: 0.0043\n",
      "Epoch 34/80\n",
      "38/38 [==============================] - 82s 2s/step - loss: 0.0046\n",
      "Epoch 35/80\n",
      "38/38 [==============================] - 80s 2s/step - loss: 0.0042\n",
      "Epoch 36/80\n",
      "38/38 [==============================] - 81s 2s/step - loss: 0.0043\n",
      "Epoch 37/80\n",
      "38/38 [==============================] - 80s 2s/step - loss: 0.0041\n",
      "Epoch 38/80\n",
      "38/38 [==============================] - 80s 2s/step - loss: 0.0040\n",
      "Epoch 39/80\n",
      "38/38 [==============================] - 81s 2s/step - loss: 0.0042\n",
      "Epoch 40/80\n",
      "38/38 [==============================] - 81s 2s/step - loss: 0.0037\n",
      "Epoch 41/80\n",
      "38/38 [==============================] - 83s 2s/step - loss: 0.0039\n",
      "Epoch 42/80\n",
      "38/38 [==============================] - 83s 2s/step - loss: 0.0036\n",
      "Epoch 43/80\n",
      "38/38 [==============================] - 82s 2s/step - loss: 0.0039\n",
      "Epoch 44/80\n",
      "38/38 [==============================] - 86s 2s/step - loss: 0.0045\n",
      "Epoch 45/80\n",
      "38/38 [==============================] - 80s 2s/step - loss: 0.0043\n",
      "Epoch 46/80\n",
      "38/38 [==============================] - 78s 2s/step - loss: 0.0041\n",
      "Epoch 47/80\n",
      "38/38 [==============================] - 79s 2s/step - loss: 0.0041\n",
      "Epoch 48/80\n",
      "38/38 [==============================] - 80s 2s/step - loss: 0.0039\n",
      "Epoch 49/80\n",
      "38/38 [==============================] - 85s 2s/step - loss: 0.0037\n",
      "Epoch 50/80\n",
      "38/38 [==============================] - 82s 2s/step - loss: 0.0033\n",
      "Epoch 51/80\n",
      "38/38 [==============================] - 79s 2s/step - loss: 0.0039\n",
      "Epoch 52/80\n",
      "38/38 [==============================] - 76s 2s/step - loss: 0.0037\n",
      "Epoch 53/80\n",
      "38/38 [==============================] - 73s 2s/step - loss: 0.0034\n",
      "Epoch 54/80\n",
      "38/38 [==============================] - 73s 2s/step - loss: 0.0040\n",
      "Epoch 55/80\n",
      "38/38 [==============================] - 73s 2s/step - loss: 0.0040\n",
      "Epoch 56/80\n",
      "38/38 [==============================] - 73s 2s/step - loss: 0.0033\n",
      "Epoch 57/80\n",
      "38/38 [==============================] - 73s 2s/step - loss: 0.0035\n",
      "Epoch 58/80\n",
      "38/38 [==============================] - 72s 2s/step - loss: 0.0030\n",
      "Epoch 59/80\n",
      "38/38 [==============================] - 72s 2s/step - loss: 0.0032\n",
      "Epoch 60/80\n",
      "38/38 [==============================] - 72s 2s/step - loss: 0.0034\n",
      "Epoch 61/80\n",
      "38/38 [==============================] - 78s 2s/step - loss: 0.0042\n",
      "Epoch 62/80\n",
      "38/38 [==============================] - 73s 2s/step - loss: 0.0032\n",
      "Epoch 63/80\n",
      "38/38 [==============================] - 70s 2s/step - loss: 0.0035\n",
      "Epoch 64/80\n",
      "38/38 [==============================] - 70s 2s/step - loss: 0.0032\n",
      "Epoch 65/80\n",
      "38/38 [==============================] - 72s 2s/step - loss: 0.0037\n",
      "Epoch 66/80\n",
      "38/38 [==============================] - 71s 2s/step - loss: 0.0035\n",
      "Epoch 67/80\n",
      "38/38 [==============================] - 70s 2s/step - loss: 0.0042\n",
      "Epoch 68/80\n",
      "38/38 [==============================] - 68s 2s/step - loss: 0.0039\n",
      "Epoch 69/80\n",
      "38/38 [==============================] - 66s 2s/step - loss: 0.0036\n",
      "Epoch 70/80\n",
      "38/38 [==============================] - 70s 2s/step - loss: 0.0031\n",
      "Epoch 71/80\n",
      "38/38 [==============================] - 76s 2s/step - loss: 0.0029\n",
      "Epoch 72/80\n",
      "38/38 [==============================] - 70s 2s/step - loss: 0.0041\n",
      "Epoch 73/80\n",
      "38/38 [==============================] - 70s 2s/step - loss: 0.0035\n",
      "Epoch 74/80\n",
      "38/38 [==============================] - 64s 2s/step - loss: 0.0039\n",
      "Epoch 75/80\n",
      "38/38 [==============================] - 61s 2s/step - loss: 0.0040\n",
      "Epoch 76/80\n",
      "38/38 [==============================] - 60s 2s/step - loss: 0.0035\n",
      "Epoch 77/80\n",
      "38/38 [==============================] - 60s 2s/step - loss: 0.0036\n",
      "Epoch 78/80\n",
      "38/38 [==============================] - 60s 2s/step - loss: 0.0030\n",
      "Epoch 79/80\n",
      "38/38 [==============================] - 58s 2s/step - loss: 0.0030\n",
      "Epoch 80/80\n",
      "38/38 [==============================] - 61s 2s/step - loss: 0.0033\n"
     ]
    }
   ],
   "source": [
    "history = model.fit(X_train, y_train, epochs=epochs, batch_size=32, verbose=1)"
   ]
  },
  {
   "cell_type": "code",
   "execution_count": 70,
   "id": "ce3efd86",
   "metadata": {},
   "outputs": [
    {
     "data": {
      "image/png": "[encoded data removed]",
      "text/plain": [
       "<Figure size 432x288 with 1 Axes>"
      ]
     },
     "metadata": {
      "needs_background": "light"
     },
     "output_type": "display_data"
    }
   ],
   "source": [
    "plt.plot(history.history['loss'], label=\"training Loss\")\n",
    "plt.legend()\n",
    "plt.show()"
   ]
  },
  {
   "cell_type": "code",
   "execution_count": 71,
   "id": "d5c28c48",
   "metadata": {},
   "outputs": [
    {
     "name": "stderr",
     "output_type": "stream",
     "text": [
      "2022-04-21 02:00:17.517380: I tensorflow/core/grappler/optimizers/custom_graph_optimizer_registry.cc:113] Plugin optimizer for device_type GPU is enabled.\n"
     ]
    },
    {
     "name": "stdout",
     "output_type": "stream",
     "text": [
      "R2: 0.713\n",
      "RMSE: 0.902\n"
     ]
    }
   ],
   "source": [
    "from sklearn.metrics import mean_squared_error, r2_score\n",
    "pred = model.predict(X_test)\n",
    "pred_inv = sc.inverse_transform(pred)\n",
    "y_test_inv = sc.inverse_transform(y_test)\n",
    "\n",
    "r2_test = r2_score(y_test_inv, pred_inv)\n",
    "rmse_test = np.sqrt(mean_squared_error(y_test_inv, pred_inv))\n",
    "\n",
    "print('R2: {:.3f}'.format(r2_test))\n",
    "print('RMSE: {:.3f}'.format(rmse_test))"
   ]
  },
  {
   "cell_type": "code",
   "execution_count": 72,
   "id": "5a4e981a",
   "metadata": {},
   "outputs": [
    {
     "data": {
      "image/png": "[encoded data removed]",
      "text/plain": [
       "<Figure size 864x223.2 with 1 Axes>"
      ]
     },
     "metadata": {
      "needs_background": "light"
     },
     "output_type": "display_data"
    }
   ],
   "source": [
    "plt.figure(figsize=(12,3.1))\n",
    "plt.grid()\n",
    "plt.plot(y_test_inv, lw=1.3, label='Actual data')\n",
    "plt.plot(pred_inv, lw=2.4, label='Prediction')\n",
    "plt.title(stock_title)\n",
    "plt.legend()\n",
    "plt.show()"
   ]
  },
  {
   "cell_type": "code",
   "execution_count": 44,
   "id": "16c498dc",
   "metadata": {},
   "outputs": [
    {
     "name": "stdout",
     "output_type": "stream",
     "text": [
      "WARNING:tensorflow:Layer gru_4 will not use cuDNN kernels since it doesn't meet the criteria. It will use a generic GPU kernel as fallback when running on GPU.\n"
     ]
    },
    {
     "name": "stderr",
     "output_type": "stream",
     "text": [
      "WARNING:tensorflow:Layer gru_4 will not use cuDNN kernels since it doesn't meet the criteria. It will use a generic GPU kernel as fallback when running on GPU.\n"
     ]
    },
    {
     "name": "stdout",
     "output_type": "stream",
     "text": [
      "WARNING:tensorflow:Layer gru_5 will not use cuDNN kernels since it doesn't meet the criteria. It will use a generic GPU kernel as fallback when running on GPU.\n"
     ]
    },
    {
     "name": "stderr",
     "output_type": "stream",
     "text": [
      "WARNING:tensorflow:Layer gru_5 will not use cuDNN kernels since it doesn't meet the criteria. It will use a generic GPU kernel as fallback when running on GPU.\n",
      "2022-04-20 22:15:29.647337: I tensorflow/core/grappler/optimizers/custom_graph_optimizer_registry.cc:113] Plugin optimizer for device_type GPU is enabled.\n"
     ]
    },
    {
     "data": {
      "image/png": "[encoded data removed]",
      "text/plain": [
       "<Figure size 864x223.2 with 1 Axes>"
      ]
     },
     "metadata": {
      "needs_background": "light"
     },
     "output_type": "display_data"
    }
   ],
   "source": [
    "#import tensorflow as tf\n",
    "#import numpy as np\n",
    "#import pandas as pd\n",
    "#import matplotlib.pyplot as plt\n",
    "#from sklearn.preprocessing import MinMaxScaler\n",
    "\n",
    "#try with other stock\n",
    "\n",
    "stock_title = 'MINT'\n",
    "stock_link = 'https://query1.finance.yahoo.com/v7/finance/download/MINT.BK?period1=1492646400&period2=1650412800&interval=1d&events=history&includeAdjustedClose=true'\n",
    "date_split_train_test = '2022-02'\n",
    "step = 20 #to predict ahead (date_split_train_test shoud be valid with the step, ex; later than 2022-02 should be 20 or more days)\n",
    "epochs = 50\n",
    "\n",
    "df = pd.read_csv(stock_link, index_col='Date')\n",
    "df.index = pd.to_datetime(df.index)\n",
    "df = df.Close\n",
    "data = df.values.reshape(-1,1)\n",
    "sc = MinMaxScaler()\n",
    "data_sc = sc.fit_transform(data)\n",
    "\n",
    "def convertToMatrix(data, step=1):\n",
    "    X, Y = [],[]\n",
    "    for i in range(len(data)-step):\n",
    "        d = i + step\n",
    "        X.append(data[i:d,]) #Training data from i to i + d\n",
    "        Y.append(data[d,]) #Target data d\n",
    "    return np.array(X), np.array(Y)\n",
    "\n",
    "n_train = df[:date_split_train_test].shape[0]\n",
    "train, test = data_sc[0:n_train], data_sc[n_train:]\n",
    "X_train, y_train = convertToMatrix(train, step)\n",
    "X_test, y_test = convertToMatrix(test, step)\n",
    "\n",
    "model = tf.keras.models.load_model('stock_prediction_model/')\n",
    "pred = model.predict(X_test)\n",
    "pred_inv = sc.inverse_transform(pred)\n",
    "y_test_inv = sc.inverse_transform(y_test)\n",
    "\n",
    "plt.figure(figsize=(12,3.1))\n",
    "plt.plot(y_test_inv, lw=1.3, label='Actual data')\n",
    "plt.plot(pred_inv, lw=2.4, label='Prediction')\n",
    "plt.title(stock_title)\n",
    "plt.legend()\n",
    "plt.show()"
   ]
  },
  {
   "cell_type": "code",
   "execution_count": 73,
   "id": "df2ac418",
   "metadata": {},
   "outputs": [
    {
     "name": "stdout",
     "output_type": "stream",
     "text": [
      "INFO:tensorflow:Assets written to: stock_prediction_model/assets\n"
     ]
    },
    {
     "name": "stderr",
     "output_type": "stream",
     "text": [
      "INFO:tensorflow:Assets written to: stock_prediction_model/assets\n",
      "WARNING:absl:<keras.layers.recurrent.GRUCell object at 0x111c20100> has the same name 'GRUCell' as a built-in Keras object. Consider renaming <class 'keras.layers.recurrent.GRUCell'> to avoid naming conflicts when loading with `tf.keras.models.load_model`. If renaming is not possible, pass the object in the `custom_objects` parameter of the load function.\n",
      "WARNING:absl:<keras.layers.recurrent.GRUCell object at 0x11103d8e0> has the same name 'GRUCell' as a built-in Keras object. Consider renaming <class 'keras.layers.recurrent.GRUCell'> to avoid naming conflicts when loading with `tf.keras.models.load_model`. If renaming is not possible, pass the object in the `custom_objects` parameter of the load function.\n"
     ]
    }
   ],
   "source": [
    "model.save('stock_prediction_model/')"
   ]
  },
  {
   "cell_type": "code",
   "execution_count": null,
   "id": "beaed545",
   "metadata": {},
   "outputs": [],
   "source": []
  }
 ],
 "metadata": {
  "kernelspec": {
   "display_name": "Tensorflow M1",
   "language": "python",
   "name": "tf_m1"
  },
  "language_info": {
   "codemirror_mode": {
    "name": "ipython",
    "version": 3
   },
   "file_extension": ".py",
   "mimetype": "text/x-python",
   "name": "python",
   "nbconvert_exporter": "python",
   "pygments_lexer": "ipython3",
   "version": "3.9.10"
  }
 },
 "nbformat": 4,
 "nbformat_minor": 5
}
