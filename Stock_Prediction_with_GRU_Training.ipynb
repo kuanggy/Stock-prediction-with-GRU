{
 "cells": [
  {
   "cell_type": "code",
   "execution_count": 1,
   "id": "43fe13da",
   "metadata": {},
   "outputs": [],
   "source": [
    "import tensorflow as tf\n",
    "import numpy as np\n",
    "import pandas as pd\n",
    "import matplotlib.pyplot as plt\n",
    "from tensorflow.keras import Sequential\n",
    "from tensorflow.keras.layers import LSTM, GRU, Dense, Dropout"
   ]
  },
  {
   "cell_type": "code",
   "execution_count": 2,
   "id": "94076238",
   "metadata": {},
   "outputs": [],
   "source": [
    "#adjust parameters here\n",
    "\n",
    "stock_title = 'IBM'\n",
    "stock_link = 'https://query1.finance.yahoo.com/v7/finance/download/IBM?period1=1491955200&period2=1649721600&interval=1d&events=history&includeAdjustedClose=true'\n",
    "date_split_train_test = '2022-02'\n",
    "step = 20 #to predict ahead (date_split_train_test shoud be valid with the step, ex; later than 2022-02 should be 20 or more days)\n",
    "epochs = 50\n"
   ]
  },
  {
   "cell_type": "code",
   "execution_count": 3,
   "id": "e0bc009d",
   "metadata": {},
   "outputs": [
    {
     "data": {
      "text/html": [
       "<div>\n",
       "<style scoped>\n",
       "    .dataframe tbody tr th:only-of-type {\n",
       "        vertical-align: middle;\n",
       "    }\n",
       "\n",
       "    .dataframe tbody tr th {\n",
       "        vertical-align: top;\n",
       "    }\n",
       "\n",
       "    .dataframe thead th {\n",
       "        text-align: right;\n",
       "    }\n",
       "</style>\n",
       "<table border=\"1\" class=\"dataframe\">\n",
       "  <thead>\n",
       "    <tr style=\"text-align: right;\">\n",
       "      <th></th>\n",
       "      <th>Open</th>\n",
       "      <th>High</th>\n",
       "      <th>Low</th>\n",
       "      <th>Close</th>\n",
       "      <th>Adj Close</th>\n",
       "      <th>Volume</th>\n",
       "    </tr>\n",
       "    <tr>\n",
       "      <th>Date</th>\n",
       "      <th></th>\n",
       "      <th></th>\n",
       "      <th></th>\n",
       "      <th></th>\n",
       "      <th></th>\n",
       "      <th></th>\n",
       "    </tr>\n",
       "  </thead>\n",
       "  <tbody>\n",
       "    <tr>\n",
       "      <th>2017-04-12</th>\n",
       "      <td>163.518158</td>\n",
       "      <td>163.671127</td>\n",
       "      <td>162.543015</td>\n",
       "      <td>163.154877</td>\n",
       "      <td>127.947723</td>\n",
       "      <td>3427637</td>\n",
       "    </tr>\n",
       "    <tr>\n",
       "      <th>2017-04-13</th>\n",
       "      <td>162.447418</td>\n",
       "      <td>163.824097</td>\n",
       "      <td>162.074570</td>\n",
       "      <td>162.074570</td>\n",
       "      <td>127.100533</td>\n",
       "      <td>3352953</td>\n",
       "    </tr>\n",
       "    <tr>\n",
       "      <th>2017-04-17</th>\n",
       "      <td>162.284897</td>\n",
       "      <td>163.766724</td>\n",
       "      <td>162.160614</td>\n",
       "      <td>163.575531</td>\n",
       "      <td>128.277603</td>\n",
       "      <td>3891329</td>\n",
       "    </tr>\n",
       "    <tr>\n",
       "      <th>2017-04-18</th>\n",
       "      <td>163.279160</td>\n",
       "      <td>164.139572</td>\n",
       "      <td>162.361374</td>\n",
       "      <td>162.571701</td>\n",
       "      <td>127.490417</td>\n",
       "      <td>6637393</td>\n",
       "    </tr>\n",
       "    <tr>\n",
       "      <th>2017-04-19</th>\n",
       "      <td>154.646271</td>\n",
       "      <td>155.487579</td>\n",
       "      <td>152.581268</td>\n",
       "      <td>154.579346</td>\n",
       "      <td>121.222733</td>\n",
       "      <td>20171378</td>\n",
       "    </tr>\n",
       "  </tbody>\n",
       "</table>\n",
       "</div>"
      ],
      "text/plain": [
       "                  Open        High         Low       Close   Adj Close  \\\n",
       "Date                                                                     \n",
       "2017-04-12  163.518158  163.671127  162.543015  163.154877  127.947723   \n",
       "2017-04-13  162.447418  163.824097  162.074570  162.074570  127.100533   \n",
       "2017-04-17  162.284897  163.766724  162.160614  163.575531  128.277603   \n",
       "2017-04-18  163.279160  164.139572  162.361374  162.571701  127.490417   \n",
       "2017-04-19  154.646271  155.487579  152.581268  154.579346  121.222733   \n",
       "\n",
       "              Volume  \n",
       "Date                  \n",
       "2017-04-12   3427637  \n",
       "2017-04-13   3352953  \n",
       "2017-04-17   3891329  \n",
       "2017-04-18   6637393  \n",
       "2017-04-19  20171378  "
      ]
     },
     "execution_count": 3,
     "metadata": {},
     "output_type": "execute_result"
    }
   ],
   "source": [
    "df = pd.read_csv(stock_link, index_col='Date')\n",
    "df.index = pd.to_datetime(df.index)\n",
    "df.head()"
   ]
  },
  {
   "cell_type": "code",
   "execution_count": 4,
   "id": "2511e07d",
   "metadata": {},
   "outputs": [
    {
     "data": {
      "text/plain": [
       "Date\n",
       "2017-04-12    163.154877\n",
       "2017-04-13    162.074570\n",
       "2017-04-17    163.575531\n",
       "2017-04-18    162.571701\n",
       "2017-04-19    154.579346\n",
       "Name: Close, dtype: float64"
      ]
     },
     "execution_count": 4,
     "metadata": {},
     "output_type": "execute_result"
    }
   ],
   "source": [
    "df.isnull().sum()\n",
    "df = df.Close\n",
    "df.head()"
   ]
  },
  {
   "cell_type": "code",
   "execution_count": 5,
   "id": "7f1909cd",
   "metadata": {},
   "outputs": [
    {
     "data": {
      "image/png": "[encoded data removed]",
      "text/plain": [
       "<Figure size 720x252 with 1 Axes>"
      ]
     },
     "metadata": {
      "needs_background": "light"
     },
     "output_type": "display_data"
    }
   ],
   "source": [
    "df[:date_split_train_test].plot(figsize=(10,3.5), legend=True)\n",
    "df[date_split_train_test:].plot(figsize=(10,3.5), legend=True)\n",
    "plt.legend(['Training set (before Feb)', 'Test set (after Feb)'])\n",
    "plt.title(stock_title)\n",
    "plt.show()"
   ]
  },
  {
   "cell_type": "code",
   "execution_count": 6,
   "id": "bcf3513b",
   "metadata": {},
   "outputs": [],
   "source": [
    "from sklearn.preprocessing import MinMaxScaler\n",
    "\n",
    "data = df.values.reshape(-1,1)\n",
    "sc = MinMaxScaler()\n",
    "data_sc = sc.fit_transform(data)"
   ]
  },
  {
   "cell_type": "code",
   "execution_count": 7,
   "id": "a4f5fa5b",
   "metadata": {},
   "outputs": [
    {
     "name": "stdout",
     "output_type": "stream",
     "text": [
      "(1229, 1) (30, 1)\n"
     ]
    }
   ],
   "source": [
    "def convertToMatrix(data, step=1):\n",
    "    X, Y = [],[]\n",
    "    for i in range(len(data)-step):\n",
    "        d = i + step\n",
    "        X.append(data[i:d,]) #Training data from i to i + d\n",
    "        Y.append(data[d,]) #Target data d\n",
    "    return np.array(X), np.array(Y)\n",
    "\n",
    "n_train = df[:date_split_train_test].shape[0]\n",
    "train, test = data_sc[0:n_train], data_sc[n_train:]\n",
    "print(train.shape, test.shape)"
   ]
  },
  {
   "cell_type": "code",
   "execution_count": 8,
   "id": "e68bbbe6",
   "metadata": {},
   "outputs": [
    {
     "name": "stdout",
     "output_type": "stream",
     "text": [
      "Train, Test of X  (1209, 20, 1) (10, 20, 1)\n",
      "Train, Test of y  (1209, 1) (10, 1)\n"
     ]
    }
   ],
   "source": [
    "X_train, y_train = convertToMatrix(train, step)\n",
    "X_test, y_test = convertToMatrix(test, step)\n",
    "print(\"Train, Test of X \", X_train.shape, X_test.shape)\n",
    "print(\"Train, Test of y \", y_train.shape, y_test.shape)"
   ]
  },
  {
   "cell_type": "code",
   "execution_count": 9,
   "id": "d13a5d58",
   "metadata": {},
   "outputs": [
    {
     "name": "stdout",
     "output_type": "stream",
     "text": [
      "WARNING:tensorflow:Layer gru will not use cuDNN kernels since it doesn't meet the criteria. It will use a generic GPU kernel as fallback when running on GPU.\n",
      "Metal device set to: Apple M1\n",
      "WARNING:tensorflow:Layer gru_1 will not use cuDNN kernels since it doesn't meet the criteria. It will use a generic GPU kernel as fallback when running on GPU.\n",
      "Model: \"sequential\"\n",
      "_________________________________________________________________\n",
      " Layer (type)                Output Shape              Param #   \n",
      "=================================================================\n",
      " gru (GRU)                   (None, 20, 50)            7950      \n",
      "                                                                 \n",
      " dropout (Dropout)           (None, 20, 50)            0         \n",
      "                                                                 \n",
      " gru_1 (GRU)                 (None, 4)                 672       \n",
      "                                                                 \n",
      " dropout_1 (Dropout)         (None, 4)                 0         \n",
      "                                                                 \n",
      " dense (Dense)               (None, 1)                 5         \n",
      "                                                                 \n",
      "=================================================================\n",
      "Total params: 8,627\n",
      "Trainable params: 8,627\n",
      "Non-trainable params: 0\n",
      "_________________________________________________________________\n"
     ]
    },
    {
     "name": "stderr",
     "output_type": "stream",
     "text": [
      "2022-04-12 14:43:48.990669: I tensorflow/core/common_runtime/pluggable_device/pluggable_device_factory.cc:305] Could not identify NUMA node of platform GPU ID 0, defaulting to 0. Your kernel may not have been built with NUMA support.\n",
      "2022-04-12 14:43:48.990749: I tensorflow/core/common_runtime/pluggable_device/pluggable_device_factory.cc:271] Created TensorFlow device (/job:localhost/replica:0/task:0/device:GPU:0 with 0 MB memory) -> physical PluggableDevice (device: 0, name: METAL, pci bus id: <undefined>)\n"
     ]
    }
   ],
   "source": [
    "model = Sequential([\n",
    "    GRU(units=50, return_sequences=True, input_shape = (step,1), activation='relu'),\n",
    "    Dropout(0.2),\n",
    "    GRU(units=4, activation='relu'),\n",
    "    Dropout(0.2),\n",
    "    Dense(units=1)\n",
    "])\n",
    "\n",
    "model.compile(loss='mean_squared_error', optimizer='rmsprop')\n",
    "model.summary()"
   ]
  },
  {
   "cell_type": "code",
   "execution_count": 10,
   "id": "e24380b5",
   "metadata": {
    "scrolled": true
   },
   "outputs": [
    {
     "name": "stdout",
     "output_type": "stream",
     "text": [
      "Epoch 1/50\n"
     ]
    },
    {
     "name": "stderr",
     "output_type": "stream",
     "text": [
      "2022-04-12 14:43:49.107715: W tensorflow/core/platform/profile_utils/cpu_utils.cc:128] Failed to get CPU frequency: 0 Hz\n",
      "2022-04-12 14:43:49.657831: I tensorflow/core/grappler/optimizers/custom_graph_optimizer_registry.cc:113] Plugin optimizer for device_type GPU is enabled.\n"
     ]
    },
    {
     "name": "stdout",
     "output_type": "stream",
     "text": [
      "38/38 [==============================] - 30s 775ms/step - loss: 0.1383\n",
      "Epoch 2/50\n",
      "38/38 [==============================] - 32s 839ms/step - loss: 0.0678\n",
      "Epoch 3/50\n",
      "38/38 [==============================] - 31s 811ms/step - loss: 0.0395\n",
      "Epoch 4/50\n",
      "38/38 [==============================] - 31s 816ms/step - loss: 0.0326\n",
      "Epoch 5/50\n",
      "38/38 [==============================] - 35s 914ms/step - loss: 0.0289\n",
      "Epoch 6/50\n",
      "38/38 [==============================] - 40s 1s/step - loss: 0.0242\n",
      "Epoch 7/50\n",
      "38/38 [==============================] - 38s 999ms/step - loss: 0.0215\n",
      "Epoch 8/50\n",
      "38/38 [==============================] - 42s 1s/step - loss: 0.0201\n",
      "Epoch 9/50\n",
      "38/38 [==============================] - 43s 1s/step - loss: 0.0188\n",
      "Epoch 10/50\n",
      "38/38 [==============================] - 41s 1s/step - loss: 0.0154\n",
      "Epoch 11/50\n",
      "38/38 [==============================] - 40s 1s/step - loss: 0.0152\n",
      "Epoch 12/50\n",
      "38/38 [==============================] - 43s 1s/step - loss: 0.0144\n",
      "Epoch 13/50\n",
      "38/38 [==============================] - 41s 1s/step - loss: 0.0114\n",
      "Epoch 14/50\n",
      "38/38 [==============================] - 43s 1s/step - loss: 0.0112\n",
      "Epoch 15/50\n",
      "38/38 [==============================] - 41s 1s/step - loss: 0.0111\n",
      "Epoch 16/50\n",
      "38/38 [==============================] - 42s 1s/step - loss: 0.0097\n",
      "Epoch 17/50\n",
      "38/38 [==============================] - 42s 1s/step - loss: 0.0098\n",
      "Epoch 18/50\n",
      "38/38 [==============================] - 41s 1s/step - loss: 0.0087\n",
      "Epoch 19/50\n",
      "38/38 [==============================] - 39s 1s/step - loss: 0.0083\n",
      "Epoch 20/50\n",
      "38/38 [==============================] - 41s 1s/step - loss: 0.0082\n",
      "Epoch 21/50\n",
      "38/38 [==============================] - 42s 1s/step - loss: 0.0076\n",
      "Epoch 22/50\n",
      "38/38 [==============================] - 45s 1s/step - loss: 0.0071\n",
      "Epoch 23/50\n",
      "38/38 [==============================] - 48s 1s/step - loss: 0.0067\n",
      "Epoch 24/50\n",
      "38/38 [==============================] - 52s 1s/step - loss: 0.0066\n",
      "Epoch 25/50\n",
      "38/38 [==============================] - 51s 1s/step - loss: 0.0059\n",
      "Epoch 26/50\n",
      "38/38 [==============================] - 45s 1s/step - loss: 0.0055\n",
      "Epoch 27/50\n",
      "38/38 [==============================] - 45s 1s/step - loss: 0.0059\n",
      "Epoch 28/50\n",
      "38/38 [==============================] - 47s 1s/step - loss: 0.0051\n",
      "Epoch 29/50\n",
      "38/38 [==============================] - 48s 1s/step - loss: 0.0044\n",
      "Epoch 30/50\n",
      "38/38 [==============================] - 45s 1s/step - loss: 0.0050\n",
      "Epoch 31/50\n",
      "38/38 [==============================] - 41s 1s/step - loss: 0.0044\n",
      "Epoch 32/50\n",
      "38/38 [==============================] - 43s 1s/step - loss: 0.0048\n",
      "Epoch 33/50\n",
      "38/38 [==============================] - 44s 1s/step - loss: 0.0045\n",
      "Epoch 34/50\n",
      "38/38 [==============================] - 41s 1s/step - loss: 0.0045\n",
      "Epoch 35/50\n",
      "38/38 [==============================] - 47s 1s/step - loss: 0.0048\n",
      "Epoch 36/50\n",
      "38/38 [==============================] - 45s 1s/step - loss: 0.0039\n",
      "Epoch 37/50\n",
      "38/38 [==============================] - 43s 1s/step - loss: 0.0044\n",
      "Epoch 38/50\n",
      "38/38 [==============================] - 43s 1s/step - loss: 0.0042\n",
      "Epoch 39/50\n",
      "38/38 [==============================] - 45s 1s/step - loss: 0.0042\n",
      "Epoch 40/50\n",
      "38/38 [==============================] - 43s 1s/step - loss: 0.0045\n",
      "Epoch 41/50\n",
      "38/38 [==============================] - 45s 1s/step - loss: 0.0040\n",
      "Epoch 42/50\n",
      "38/38 [==============================] - 43s 1s/step - loss: 0.0038\n",
      "Epoch 43/50\n",
      "38/38 [==============================] - 45s 1s/step - loss: 0.0038\n",
      "Epoch 44/50\n",
      "38/38 [==============================] - 49s 1s/step - loss: 0.0037\n",
      "Epoch 45/50\n",
      "38/38 [==============================] - 47s 1s/step - loss: 0.0041\n",
      "Epoch 46/50\n",
      "38/38 [==============================] - 46s 1s/step - loss: 0.0038\n",
      "Epoch 47/50\n",
      "38/38 [==============================] - 49s 1s/step - loss: 0.0037\n",
      "Epoch 48/50\n",
      "38/38 [==============================] - 44s 1s/step - loss: 0.0032\n",
      "Epoch 49/50\n",
      "38/38 [==============================] - 46s 1s/step - loss: 0.0036\n",
      "Epoch 50/50\n",
      "38/38 [==============================] - 43s 1s/step - loss: 0.0039\n"
     ]
    }
   ],
   "source": [
    "history = model.fit(X_train, y_train, epochs=epochs, batch_size=32, verbose=1)"
   ]
  },
  {
   "cell_type": "code",
   "execution_count": 11,
   "id": "ce3efd86",
   "metadata": {},
   "outputs": [
    {
     "data": {
      "image/png": "[encoded data removed]",
      "text/plain": [
       "<Figure size 432x288 with 1 Axes>"
      ]
     },
     "metadata": {
      "needs_background": "light"
     },
     "output_type": "display_data"
    }
   ],
   "source": [
    "plt.plot(history.history['loss'], label=\"training Loss\")\n",
    "plt.legend()\n",
    "plt.show()"
   ]
  },
  {
   "cell_type": "code",
   "execution_count": 12,
   "id": "d5c28c48",
   "metadata": {},
   "outputs": [
    {
     "name": "stderr",
     "output_type": "stream",
     "text": [
      "2022-04-12 15:19:26.115624: I tensorflow/core/grappler/optimizers/custom_graph_optimizer_registry.cc:113] Plugin optimizer for device_type GPU is enabled.\n"
     ]
    },
    {
     "name": "stdout",
     "output_type": "stream",
     "text": [
      "R2: 0.559\n",
      "RMSE: 1.119\n"
     ]
    }
   ],
   "source": [
    "from sklearn.metrics import mean_squared_error, r2_score\n",
    "pred = model.predict(X_test)\n",
    "pred_inv = sc.inverse_transform(pred)\n",
    "y_test_inv = sc.inverse_transform(y_test)\n",
    "\n",
    "r2_test = r2_score(y_test_inv, pred_inv)\n",
    "rmse_test = np.sqrt(mean_squared_error(y_test_inv, pred_inv))\n",
    "\n",
    "print('R2: {:.3f}'.format(r2_test))\n",
    "print('RMSE: {:.3f}'.format(rmse_test))"
   ]
  },
  {
   "cell_type": "code",
   "execution_count": 13,
   "id": "5a4e981a",
   "metadata": {},
   "outputs": [
    {
     "data": {
      "image/png": "[encoded data removed]",
      "text/plain": [
       "<Figure size 864x223.2 with 1 Axes>"
      ]
     },
     "metadata": {
      "needs_background": "light"
     },
     "output_type": "display_data"
    }
   ],
   "source": [
    "plt.figure(figsize=(12,3.1))\n",
    "plt.plot(y_test_inv, lw=1.3, label='Actual data')\n",
    "plt.plot(pred_inv, lw=2.4, label='Prediction')\n",
    "plt.title(stock_title)\n",
    "plt.legend()\n",
    "plt.show()"
   ]
  },
  {
   "cell_type": "code",
   "execution_count": 21,
   "id": "16c498dc",
   "metadata": {},
   "outputs": [
    {
     "name": "stdout",
     "output_type": "stream",
     "text": [
      "WARNING:tensorflow:Layer gru will not use cuDNN kernels since it doesn't meet the criteria. It will use a generic GPU kernel as fallback when running on GPU.\n"
     ]
    },
    {
     "name": "stderr",
     "output_type": "stream",
     "text": [
      "WARNING:tensorflow:Layer gru will not use cuDNN kernels since it doesn't meet the criteria. It will use a generic GPU kernel as fallback when running on GPU.\n"
     ]
    },
    {
     "name": "stdout",
     "output_type": "stream",
     "text": [
      "WARNING:tensorflow:Layer gru_1 will not use cuDNN kernels since it doesn't meet the criteria. It will use a generic GPU kernel as fallback when running on GPU.\n"
     ]
    },
    {
     "name": "stderr",
     "output_type": "stream",
     "text": [
      "WARNING:tensorflow:Layer gru_1 will not use cuDNN kernels since it doesn't meet the criteria. It will use a generic GPU kernel as fallback when running on GPU.\n",
      "2022-04-12 15:36:36.734053: I tensorflow/core/grappler/optimizers/custom_graph_optimizer_registry.cc:113] Plugin optimizer for device_type GPU is enabled.\n"
     ]
    },
    {
     "data": {
      "image/png": "[encoded data removed]",
      "text/plain": [
       "<Figure size 864x223.2 with 1 Axes>"
      ]
     },
     "metadata": {
      "needs_background": "light"
     },
     "output_type": "display_data"
    }
   ],
   "source": [
    "import tensorflow as tf\n",
    "import numpy as np\n",
    "import pandas as pd\n",
    "import matplotlib.pyplot as plt\n",
    "from sklearn.preprocessing import MinMaxScaler\n",
    "\n",
    "#try with other stock\n",
    "\n",
    "stock_title = 'SCB'\n",
    "stock_link = 'https://query1.finance.yahoo.com/v7/finance/download/SCB.BK?period1=1491955200&period2=1649721600&interval=1d&events=history&includeAdjustedClose=true'\n",
    "date_split_train_test = '2022-02'\n",
    "step = 20 #to predict ahead (date_split_train_test shoud be valid with the step, ex; later than 2022-02 should be 20 or more days)\n",
    "epochs = 50\n",
    "\n",
    "df = pd.read_csv(stock_link, index_col='Date')\n",
    "df.index = pd.to_datetime(df.index)\n",
    "df = df.Close\n",
    "data = df.values.reshape(-1,1)\n",
    "sc = MinMaxScaler()\n",
    "data_sc = sc.fit_transform(data)\n",
    "\n",
    "def convertToMatrix(data, step=1):\n",
    "    X, Y = [],[]\n",
    "    for i in range(len(data)-step):\n",
    "        d = i + step\n",
    "        X.append(data[i:d,]) #Training data from i to i + d\n",
    "        Y.append(data[d,]) #Target data d\n",
    "    return np.array(X), np.array(Y)\n",
    "\n",
    "n_train = df[:date_split_train_test].shape[0]\n",
    "train, test = data_sc[0:n_train], data_sc[n_train:]\n",
    "X_train, y_train = convertToMatrix(train, step)\n",
    "X_test, y_test = convertToMatrix(test, step)\n",
    "\n",
    "model = tf.keras.models.load_model('stock_prediction_model/')\n",
    "pred = model.predict(X_test)\n",
    "pred_inv = sc.inverse_transform(pred)\n",
    "y_test_inv = sc.inverse_transform(y_test)\n",
    "\n",
    "plt.figure(figsize=(12,3.1))\n",
    "plt.plot(y_test_inv, lw=1.3, label='Actual data')\n",
    "plt.plot(pred_inv, lw=2.4, label='Prediction')\n",
    "plt.title(stock_title)\n",
    "plt.legend()\n",
    "plt.show()"
   ]
  },
  {
   "cell_type": "code",
   "execution_count": 20,
   "id": "df2ac418",
   "metadata": {},
   "outputs": [
    {
     "name": "stderr",
     "output_type": "stream",
     "text": [
      "2022-04-12 15:31:40.039386: W tensorflow/python/util/util.cc:368] Sets are not currently considered sequences, but this may change in the future, so consider avoiding using them.\n"
     ]
    },
    {
     "name": "stdout",
     "output_type": "stream",
     "text": [
      "INFO:tensorflow:Assets written to: stock_prediction_model/assets\n"
     ]
    },
    {
     "name": "stderr",
     "output_type": "stream",
     "text": [
      "WARNING:absl:<keras.layers.recurrent.GRUCell object at 0x162e16e80> has the same name 'GRUCell' as a built-in Keras object. Consider renaming <class 'keras.layers.recurrent.GRUCell'> to avoid naming conflicts when loading with `tf.keras.models.load_model`. If renaming is not possible, pass the object in the `custom_objects` parameter of the load function.\n",
      "WARNING:absl:<keras.layers.recurrent.GRUCell object at 0x162e69580> has the same name 'GRUCell' as a built-in Keras object. Consider renaming <class 'keras.layers.recurrent.GRUCell'> to avoid naming conflicts when loading with `tf.keras.models.load_model`. If renaming is not possible, pass the object in the `custom_objects` parameter of the load function.\n"
     ]
    }
   ],
   "source": [
    "model.save('stock_prediction_model/')"
   ]
  },
  {
   "cell_type": "code",
   "execution_count": null,
   "id": "beaed545",
   "metadata": {},
   "outputs": [],
   "source": []
  }
 ],
 "metadata": {
  "kernelspec": {
   "display_name": "Tensorflow M1",
   "language": "python",
   "name": "tf_m1"
  },
  "language_info": {
   "codemirror_mode": {
    "name": "ipython",
    "version": 3
   },
   "file_extension": ".py",
   "mimetype": "text/x-python",
   "name": "python",
   "nbconvert_exporter": "python",
   "pygments_lexer": "ipython3",
   "version": "3.9.10"
  }
 },
 "nbformat": 4,
 "nbformat_minor": 5
}
